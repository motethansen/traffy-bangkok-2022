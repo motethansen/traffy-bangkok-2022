{
 "cells": [
  {
   "cell_type": "markdown",
   "id": "7b109adc-d166-4960-accb-609a6054fcdb",
   "metadata": {},
   "source": [
    "# Traffy Fondue data samples\n",
    "The data from this analysis is taken from the traffy API"
   ]
  },
  {
   "cell_type": "code",
   "execution_count": 1,
   "id": "e7eb6752",
   "metadata": {},
   "outputs": [
    {
     "name": "stdout",
     "output_type": "stream",
     "text": [
      "(29000, 19)\n",
      "Index(['message_id', 'type', 'type_id', 'org', 'comment', 'ticket_id',\n",
      "       'coords', 'photo', 'after_photo', 'address', 'district', 'subdistrict',\n",
      "       'province', 'timestamp', 'problem_type_abdul', 'status', 'star',\n",
      "       'count_reopen', 'state'],\n",
      "      dtype='object')\n"
     ]
    }
   ],
   "source": [
    "# setup pandas and read the csv file\n",
    "\n",
    "import pandas as pd\n",
    "import numpy as np\n",
    "\n",
    "df_import = pd.read_csv('df_traffy.csv')\n",
    "\n",
    "print(df_import.shape)\n",
    "print(df_import.columns)\n"
   ]
  },
  {
   "cell_type": "markdown",
   "id": "a115db69",
   "metadata": {},
   "source": [
    "# data cleaning\n",
    "1. Remove duplicates\n",
    "2. Remove NaN (missing value lines)\n",
    "\n",
    "This set of sample data is collected via the Traffy API, and contains samples across several month, from June 2022 until December 2022.\n"
   ]
  },
  {
   "cell_type": "code",
   "execution_count": 2,
   "id": "2c193067",
   "metadata": {},
   "outputs": [
    {
     "data": {
      "text/plain": [
       "(19518, 19)"
      ]
     },
     "execution_count": 2,
     "metadata": {},
     "output_type": "execute_result"
    }
   ],
   "source": [
    "#drop duplicates\n",
    "df_dup = df_import.drop_duplicates('message_id')\n",
    "df_dup.shape\n",
    "\n",
    "#drop NaN\n",
    "df_clean = df_dup.dropna(subset=['message_id','type'])\n",
    "df_clean.shape"
   ]
  },
  {
   "cell_type": "markdown",
   "id": "9e9e69a8",
   "metadata": {},
   "source": [
    "Lets check the timestamps for duplicates\n",
    "- Looks like no duplicates, but need to be sure."
   ]
  },
  {
   "cell_type": "code",
   "execution_count": 3,
   "id": "a088bca7",
   "metadata": {},
   "outputs": [
    {
     "data": {
      "text/plain": [
       "(19518, 19)"
      ]
     },
     "execution_count": 3,
     "metadata": {},
     "output_type": "execute_result"
    }
   ],
   "source": [
    "df_traffydata = df_clean.drop_duplicates('timestamp')\n",
    "df_traffydata.shape"
   ]
  },
  {
   "cell_type": "code",
   "execution_count": 4,
   "id": "dd60c105",
   "metadata": {},
   "outputs": [
    {
     "data": {
      "text/html": [
       "<div>\n",
       "<style scoped>\n",
       "    .dataframe tbody tr th:only-of-type {\n",
       "        vertical-align: middle;\n",
       "    }\n",
       "\n",
       "    .dataframe tbody tr th {\n",
       "        vertical-align: top;\n",
       "    }\n",
       "\n",
       "    .dataframe thead th {\n",
       "        text-align: right;\n",
       "    }\n",
       "</style>\n",
       "<table border=\"1\" class=\"dataframe\">\n",
       "  <thead>\n",
       "    <tr style=\"text-align: right;\">\n",
       "      <th></th>\n",
       "      <th>message_id</th>\n",
       "      <th>type</th>\n",
       "      <th>type_id</th>\n",
       "      <th>org</th>\n",
       "      <th>comment</th>\n",
       "      <th>ticket_id</th>\n",
       "      <th>coords</th>\n",
       "      <th>photo</th>\n",
       "      <th>after_photo</th>\n",
       "      <th>address</th>\n",
       "      <th>district</th>\n",
       "      <th>subdistrict</th>\n",
       "      <th>province</th>\n",
       "      <th>timestamp</th>\n",
       "      <th>problem_type_abdul</th>\n",
       "      <th>status</th>\n",
       "      <th>star</th>\n",
       "      <th>count_reopen</th>\n",
       "      <th>state</th>\n",
       "    </tr>\n",
       "  </thead>\n",
       "  <tbody>\n",
       "    <tr>\n",
       "      <th>0</th>\n",
       "      <td>167059.0</td>\n",
       "      <td>ถนน</td>\n",
       "      <td>12</td>\n",
       "      <td>กรุงเทพมหานคร</td>\n",
       "      <td>ผิวการจราจรชำรุด ปากซอยอรุณอมรินทร์ 1 ถนนอรุณอ...</td>\n",
       "      <td>2022-4YGFDW</td>\n",
       "      <td>['100.49511', '13.73414']</td>\n",
       "      <td>https://storage.googleapis.com/traffy_public_b...</td>\n",
       "      <td>NaN</td>\n",
       "      <td>25/1 ถนนเทศบาลสาย 2 แขวง วัดกัลยา เขตธนบุรี กร...</td>\n",
       "      <td>ธนบุรี</td>\n",
       "      <td>วัดกัลยาณ์</td>\n",
       "      <td>กรุงเทพมหานคร</td>\n",
       "      <td>2022-08-02 01:12:29.503983+00:00</td>\n",
       "      <td>{ถนน}</td>\n",
       "      <td>inprogress</td>\n",
       "      <td>NaN</td>\n",
       "      <td>NaN</td>\n",
       "      <td>กำลังดำเนินการ</td>\n",
       "    </tr>\n",
       "    <tr>\n",
       "      <th>2</th>\n",
       "      <td>167057.0</td>\n",
       "      <td>น้ำท่วม,ความสะอาด,ถนน</td>\n",
       "      <td>5</td>\n",
       "      <td>กรุงเทพมหานคร</td>\n",
       "      <td>แจ้งเรื่องร้องเรียน :\\n\\nขยะไม่ได้รับการจัดเก็...</td>\n",
       "      <td>2022-K3HGTD</td>\n",
       "      <td>['100.58499', '13.82280']</td>\n",
       "      <td>https://storage.googleapis.com/traffy_public_b...</td>\n",
       "      <td>NaN</td>\n",
       "      <td>9/60 ซอย รัชดาภิเษก 36 แยก 9-15 แขวง จันทรเกษม...</td>\n",
       "      <td>จตุจักร</td>\n",
       "      <td>จันทรเกษม</td>\n",
       "      <td>กรุงเทพมหานคร</td>\n",
       "      <td>2022-08-02 01:12:22.743730+00:00</td>\n",
       "      <td>{น้ำท่วม,ความสะอาด,ถนน}</td>\n",
       "      <td>finish</td>\n",
       "      <td>NaN</td>\n",
       "      <td>1.0</td>\n",
       "      <td>เสร็จสิ้น</td>\n",
       "    </tr>\n",
       "  </tbody>\n",
       "</table>\n",
       "</div>"
      ],
      "text/plain": [
       "   message_id                   type  type_id            org  \\\n",
       "0    167059.0                    ถนน       12  กรุงเทพมหานคร   \n",
       "2    167057.0  น้ำท่วม,ความสะอาด,ถนน        5  กรุงเทพมหานคร   \n",
       "\n",
       "                                             comment    ticket_id  \\\n",
       "0  ผิวการจราจรชำรุด ปากซอยอรุณอมรินทร์ 1 ถนนอรุณอ...  2022-4YGFDW   \n",
       "2  แจ้งเรื่องร้องเรียน :\\n\\nขยะไม่ได้รับการจัดเก็...  2022-K3HGTD   \n",
       "\n",
       "                      coords  \\\n",
       "0  ['100.49511', '13.73414']   \n",
       "2  ['100.58499', '13.82280']   \n",
       "\n",
       "                                               photo after_photo  \\\n",
       "0  https://storage.googleapis.com/traffy_public_b...         NaN   \n",
       "2  https://storage.googleapis.com/traffy_public_b...         NaN   \n",
       "\n",
       "                                             address district subdistrict  \\\n",
       "0  25/1 ถนนเทศบาลสาย 2 แขวง วัดกัลยา เขตธนบุรี กร...   ธนบุรี  วัดกัลยาณ์   \n",
       "2  9/60 ซอย รัชดาภิเษก 36 แยก 9-15 แขวง จันทรเกษม...  จตุจักร   จันทรเกษม   \n",
       "\n",
       "        province                         timestamp       problem_type_abdul  \\\n",
       "0  กรุงเทพมหานคร  2022-08-02 01:12:29.503983+00:00                    {ถนน}   \n",
       "2  กรุงเทพมหานคร  2022-08-02 01:12:22.743730+00:00  {น้ำท่วม,ความสะอาด,ถนน}   \n",
       "\n",
       "       status  star  count_reopen           state  \n",
       "0  inprogress   NaN           NaN  กำลังดำเนินการ  \n",
       "2      finish   NaN           1.0       เสร็จสิ้น  "
      ]
     },
     "execution_count": 4,
     "metadata": {},
     "output_type": "execute_result"
    }
   ],
   "source": [
    "# enabling full column display\n",
    "pd.set_option('display.max_columns', None)\n",
    "df_traffydata.head(2)"
   ]
  },
  {
   "cell_type": "markdown",
   "id": "98dc8eac",
   "metadata": {},
   "source": [
    "# Language support\n",
    "This section will translate the types, organization, status, and city region and location names."
   ]
  },
  {
   "cell_type": "code",
   "execution_count": 5,
   "id": "687c2a68",
   "metadata": {},
   "outputs": [],
   "source": [
    "type = {\n",
    "    'อื่นๆ':'Other',\n",
    "    'ถนน':'Road',\n",
    "    'ทางเท้า':'Sidewalk',\n",
    "    'น้ำท่วม':'Flood',\n",
    "    'แสงสว่าง':'Light',\n",
    "    'ความปลอดภัย':'Safety',\n",
    "    'ความสะอาด':'Cleanliness',\n",
    "    'ท่อระบายน้ำ':'Drain',\n",
    "    'สะพาน':'Bridge',\n",
    "    'กีดขวาง':'Obstruction',\n",
    "    'จราจร':'Traffic',  \n",
    "    'สายไฟ':'electric wires',\n",
    "    'คลอง':'Canal',\n",
    "    'ต้นไม้':'Tree',\n",
    "    'เสียงรบกวน':'Noise',\n",
    "    'สัตว์จรจัด':'Stray animals',\n",
    "    'ป้าย':'Signage',\n",
    "    'ร้องเรียน':'Complaint',\n",
    "    'เสนอแนะ':'Suggestion',\n",
    "    'คนจรจัด':'Homeless',\n",
    "    'การเดินทาง':'Journey',\n",
    "    'สอบถาม':'Inquiry',\n",
    "    'ห้องน้ำ':'Bathroom',\n",
    "    'PM2.5':'PM2.5',\n",
    "    'ป้ายจราจร':'Traffic Signs'\n",
    "}\n",
    "\n",
    "#state should be the same as status\n",
    "state = {\n",
    "    'ส่งเรื่องแล้ว':'Submitted',\n",
    "    'กำลังดำเนินการ':'In progress',\n",
    "    'เสร็จสิ้น':'finish',\n",
    "    'ส่งต่อ(ใหม่)':'Forward(New)',\n",
    "    'ของบประมาณ':'Ask for a budget.',\n",
    "    'รอรับเรื่อง':'Waiting to get the story.',\n",
    "    'ไม่เกี่ยวข้อง':'Irrelevant.'\n",
    "}\n",
    "\n",
    "statelistkey = list(state)"
   ]
  },
  {
   "cell_type": "code",
   "execution_count": 6,
   "id": "aa41cbca",
   "metadata": {},
   "outputs": [
    {
     "name": "stdout",
     "output_type": "stream",
     "text": [
      "ส่งเรื่องแล้ว\n"
     ]
    }
   ],
   "source": [
    "print(statelistkey[0])"
   ]
  },
  {
   "cell_type": "code",
   "execution_count": 7,
   "id": "34b17867",
   "metadata": {},
   "outputs": [
    {
     "name": "stderr",
     "output_type": "stream",
     "text": [
      "/var/folders/r9/s9f9f5cj77l7qzjyd8t03b1h0000gn/T/ipykernel_38345/3116406878.py:9: SettingWithCopyWarning: \n",
      "A value is trying to be set on a copy of a slice from a DataFrame.\n",
      "Try using .loc[row_indexer,col_indexer] = value instead\n",
      "\n",
      "See the caveats in the documentation: https://pandas.pydata.org/pandas-docs/stable/user_guide/indexing.html#returning-a-view-versus-a-copy\n",
      "  df_traffycol[[\"star\",\"count_reopen\"]] = df_traffycol[[\"star\",\"count_reopen\"]].fillna(0)\n",
      "/var/folders/r9/s9f9f5cj77l7qzjyd8t03b1h0000gn/T/ipykernel_38345/3116406878.py:21: SettingWithCopyWarning: \n",
      "A value is trying to be set on a copy of a slice from a DataFrame.\n",
      "Try using .loc[row_indexer,col_indexer] = value instead\n",
      "\n",
      "See the caveats in the documentation: https://pandas.pydata.org/pandas-docs/stable/user_guide/indexing.html#returning-a-view-versus-a-copy\n",
      "  df_traffycol[\"statuscode\"]= statuscode\n",
      "/var/folders/r9/s9f9f5cj77l7qzjyd8t03b1h0000gn/T/ipykernel_38345/3116406878.py:29: SettingWithCopyWarning: \n",
      "A value is trying to be set on a copy of a slice from a DataFrame.\n",
      "Try using .loc[row_indexer,col_indexer] = value instead\n",
      "\n",
      "See the caveats in the documentation: https://pandas.pydata.org/pandas-docs/stable/user_guide/indexing.html#returning-a-view-versus-a-copy\n",
      "  df_traffycol[type[t]]= 0\n",
      "/var/folders/r9/s9f9f5cj77l7qzjyd8t03b1h0000gn/T/ipykernel_38345/3116406878.py:29: SettingWithCopyWarning: \n",
      "A value is trying to be set on a copy of a slice from a DataFrame.\n",
      "Try using .loc[row_indexer,col_indexer] = value instead\n",
      "\n",
      "See the caveats in the documentation: https://pandas.pydata.org/pandas-docs/stable/user_guide/indexing.html#returning-a-view-versus-a-copy\n",
      "  df_traffycol[type[t]]= 0\n",
      "/var/folders/r9/s9f9f5cj77l7qzjyd8t03b1h0000gn/T/ipykernel_38345/3116406878.py:29: SettingWithCopyWarning: \n",
      "A value is trying to be set on a copy of a slice from a DataFrame.\n",
      "Try using .loc[row_indexer,col_indexer] = value instead\n",
      "\n",
      "See the caveats in the documentation: https://pandas.pydata.org/pandas-docs/stable/user_guide/indexing.html#returning-a-view-versus-a-copy\n",
      "  df_traffycol[type[t]]= 0\n",
      "/var/folders/r9/s9f9f5cj77l7qzjyd8t03b1h0000gn/T/ipykernel_38345/3116406878.py:29: SettingWithCopyWarning: \n",
      "A value is trying to be set on a copy of a slice from a DataFrame.\n",
      "Try using .loc[row_indexer,col_indexer] = value instead\n",
      "\n",
      "See the caveats in the documentation: https://pandas.pydata.org/pandas-docs/stable/user_guide/indexing.html#returning-a-view-versus-a-copy\n",
      "  df_traffycol[type[t]]= 0\n",
      "/var/folders/r9/s9f9f5cj77l7qzjyd8t03b1h0000gn/T/ipykernel_38345/3116406878.py:29: SettingWithCopyWarning: \n",
      "A value is trying to be set on a copy of a slice from a DataFrame.\n",
      "Try using .loc[row_indexer,col_indexer] = value instead\n",
      "\n",
      "See the caveats in the documentation: https://pandas.pydata.org/pandas-docs/stable/user_guide/indexing.html#returning-a-view-versus-a-copy\n",
      "  df_traffycol[type[t]]= 0\n",
      "/var/folders/r9/s9f9f5cj77l7qzjyd8t03b1h0000gn/T/ipykernel_38345/3116406878.py:29: SettingWithCopyWarning: \n",
      "A value is trying to be set on a copy of a slice from a DataFrame.\n",
      "Try using .loc[row_indexer,col_indexer] = value instead\n",
      "\n",
      "See the caveats in the documentation: https://pandas.pydata.org/pandas-docs/stable/user_guide/indexing.html#returning-a-view-versus-a-copy\n",
      "  df_traffycol[type[t]]= 0\n",
      "/var/folders/r9/s9f9f5cj77l7qzjyd8t03b1h0000gn/T/ipykernel_38345/3116406878.py:29: SettingWithCopyWarning: \n",
      "A value is trying to be set on a copy of a slice from a DataFrame.\n",
      "Try using .loc[row_indexer,col_indexer] = value instead\n",
      "\n",
      "See the caveats in the documentation: https://pandas.pydata.org/pandas-docs/stable/user_guide/indexing.html#returning-a-view-versus-a-copy\n",
      "  df_traffycol[type[t]]= 0\n",
      "/var/folders/r9/s9f9f5cj77l7qzjyd8t03b1h0000gn/T/ipykernel_38345/3116406878.py:29: SettingWithCopyWarning: \n",
      "A value is trying to be set on a copy of a slice from a DataFrame.\n",
      "Try using .loc[row_indexer,col_indexer] = value instead\n",
      "\n",
      "See the caveats in the documentation: https://pandas.pydata.org/pandas-docs/stable/user_guide/indexing.html#returning-a-view-versus-a-copy\n",
      "  df_traffycol[type[t]]= 0\n",
      "/var/folders/r9/s9f9f5cj77l7qzjyd8t03b1h0000gn/T/ipykernel_38345/3116406878.py:29: SettingWithCopyWarning: \n",
      "A value is trying to be set on a copy of a slice from a DataFrame.\n",
      "Try using .loc[row_indexer,col_indexer] = value instead\n",
      "\n",
      "See the caveats in the documentation: https://pandas.pydata.org/pandas-docs/stable/user_guide/indexing.html#returning-a-view-versus-a-copy\n",
      "  df_traffycol[type[t]]= 0\n"
     ]
    },
    {
     "data": {
      "text/plain": [
       "Index(['message_id', 'type', 'coords', 'timestamp', 'status', 'star',\n",
       "       'count_reopen', 'state', 'statuscode', 'Other', 'Road', 'Sidewalk',\n",
       "       'Flood', 'Light', 'Safety', 'Cleanliness', 'Drain', 'Bridge',\n",
       "       'Obstruction', 'Traffic', 'electric wires', 'Canal', 'Tree', 'Noise',\n",
       "       'Stray animals', 'Signage', 'Complaint', 'Suggestion', 'Homeless',\n",
       "       'Journey', 'Inquiry', 'Bathroom', 'PM2.5', 'Traffic Signs'],\n",
       "      dtype='object')"
      ]
     },
     "execution_count": 7,
     "metadata": {},
     "output_type": "execute_result"
    }
   ],
   "source": [
    "#df_traffydata.head(50)\n",
    "\n",
    "# extract only the columns needed for analysis\n",
    "df_traffycol = df_traffydata[[\"message_id\",\"type\", \"coords\", \"timestamp\", \"status\", \"star\",\n",
    "       \"count_reopen\", \"state\"]]\n",
    "\n",
    "#add a typecode column and a statuscode column and in star and count_reopen change NaN to 0\n",
    "# Replace on multiple columns in star and count_reopen\n",
    "df_traffycol[[\"star\",\"count_reopen\"]] = df_traffycol[[\"star\",\"count_reopen\"]].fillna(0)\n",
    "#add statuscode and typecode column\n",
    "statuscode = []\n",
    "for s in df_traffycol.loc[:,\"state\"]:\n",
    "       if s in state:\n",
    "              indexvalue = statelistkey.index(s)\n",
    "              statuscode.append(indexvalue)\n",
    "       else:\n",
    "              statuscode.append(-1)\n",
    "\n",
    "\n",
    "#print(statuscode)\n",
    "df_traffycol[\"statuscode\"]= statuscode\n",
    "\n",
    "# Add empty column with translated name of type\n",
    "#print(df_traffycol['type'].value_counts())\n",
    "for t in type:\n",
    "#       print(\"key: \", t, \" English: \", type[t])\n",
    "#       print(df_traffycol['type'].str.contains(t).value_counts())\n",
    "       #add empty col with new colname\n",
    "       df_traffycol[type[t]]= 0\n",
    "df_traffycol.columns"
   ]
  },
  {
   "cell_type": "code",
   "execution_count": 8,
   "id": "c25496c5",
   "metadata": {},
   "outputs": [],
   "source": [
    "#add a status code column assign na\n",
    "df_traffycol['statuscode']= np.nan"
   ]
  },
  {
   "cell_type": "code",
   "execution_count": 9,
   "id": "5af4ec35",
   "metadata": {},
   "outputs": [
    {
     "data": {
      "text/plain": [
       "(19518, 34)"
      ]
     },
     "execution_count": 9,
     "metadata": {},
     "output_type": "execute_result"
    }
   ],
   "source": [
    "df_traffycol.shape"
   ]
  },
  {
   "cell_type": "code",
   "execution_count": 10,
   "id": "f55f8fee",
   "metadata": {},
   "outputs": [
    {
     "name": "stdout",
     "output_type": "stream",
     "text": [
      "2\n"
     ]
    }
   ],
   "source": [
    "val = statelistkey.index('เสร็จสิ้น')\n",
    "print(str(val))"
   ]
  },
  {
   "cell_type": "code",
   "execution_count": 11,
   "id": "eaee89ad",
   "metadata": {},
   "outputs": [
    {
     "name": "stderr",
     "output_type": "stream",
     "text": [
      "/var/folders/r9/s9f9f5cj77l7qzjyd8t03b1h0000gn/T/ipykernel_38345/2151275940.py:12: SettingWithCopyWarning: \n",
      "A value is trying to be set on a copy of a slice from a DataFrame\n",
      "\n",
      "See the caveats in the documentation: https://pandas.pydata.org/pandas-docs/stable/user_guide/indexing.html#returning-a-view-versus-a-copy\n",
      "  df_traffycol[type[t]].iloc[index] = 1\n",
      "/var/folders/r9/s9f9f5cj77l7qzjyd8t03b1h0000gn/T/ipykernel_38345/2151275940.py:21: SettingWithCopyWarning: \n",
      "A value is trying to be set on a copy of a slice from a DataFrame\n",
      "\n",
      "See the caveats in the documentation: https://pandas.pydata.org/pandas-docs/stable/user_guide/indexing.html#returning-a-view-versus-a-copy\n",
      "  df_traffycol['statuscode'].iloc[index]= statelistkey.index(df_traffycol['state'].iloc[index])\n"
     ]
    }
   ],
   "source": [
    "# code the type string into values in translated type columns\n",
    "nrows = df_traffycol.shape[0]\n",
    "for index in range(nrows):#df_traffycol['type'].index:\n",
    "    try:\n",
    "        typestring = df_traffycol['type'].iloc[index]\n",
    "    except IndexError:\n",
    "        print(\"Index error - Index: \"+ str(index))\n",
    "    tstring = typestring.split(\",\")\n",
    "    #print(tstring)\n",
    "    for t in tstring:\n",
    "        if t in typestring:\n",
    "            df_traffycol[type[t]].iloc[index] = 1\n",
    "    #        print(\"TRUE type: \"+type[t]+\" t: \"+t)\n",
    "        else:\n",
    "            df_traffycol[type[t]].iloc[index] = 0\n",
    "    #        print(\"FALSE type: \"+type[t]+\" t: \"+t)\n",
    "        #df_traffycol[type[t]] = found\n",
    "    #print(\"idex: \"+str(index))\n",
    "    #print(df_traffycol.iloc[index])\n",
    "    if df_traffycol['state'].iloc[index] in state:\n",
    "        df_traffycol['statuscode'].iloc[index]= statelistkey.index(df_traffycol['state'].iloc[index])\n",
    "    \n",
    "    #"
   ]
  },
  {
   "cell_type": "code",
   "execution_count": 12,
   "id": "a8d7faf8",
   "metadata": {},
   "outputs": [
    {
     "data": {
      "text/plain": [
       "Index(['message_id', 'type', 'coords', 'timestamp', 'status', 'star',\n",
       "       'count_reopen', 'state', 'statuscode', 'Other', 'Road', 'Sidewalk',\n",
       "       'Flood', 'Light', 'Safety', 'Cleanliness', 'Drain', 'Bridge',\n",
       "       'Obstruction', 'Traffic', 'electric wires', 'Canal', 'Tree', 'Noise',\n",
       "       'Stray animals', 'Signage', 'Complaint', 'Suggestion', 'Homeless',\n",
       "       'Journey', 'Inquiry', 'Bathroom', 'PM2.5', 'Traffic Signs'],\n",
       "      dtype='object')"
      ]
     },
     "execution_count": 12,
     "metadata": {},
     "output_type": "execute_result"
    }
   ],
   "source": [
    "df_traffycol.columns"
   ]
  },
  {
   "cell_type": "code",
   "execution_count": 13,
   "id": "c817dde3",
   "metadata": {},
   "outputs": [
    {
     "data": {
      "text/html": [
       "<div>\n",
       "<style scoped>\n",
       "    .dataframe tbody tr th:only-of-type {\n",
       "        vertical-align: middle;\n",
       "    }\n",
       "\n",
       "    .dataframe tbody tr th {\n",
       "        vertical-align: top;\n",
       "    }\n",
       "\n",
       "    .dataframe thead th {\n",
       "        text-align: right;\n",
       "    }\n",
       "</style>\n",
       "<table border=\"1\" class=\"dataframe\">\n",
       "  <thead>\n",
       "    <tr style=\"text-align: right;\">\n",
       "      <th></th>\n",
       "      <th>message_id</th>\n",
       "      <th>type</th>\n",
       "      <th>coords</th>\n",
       "      <th>timestamp</th>\n",
       "      <th>status</th>\n",
       "      <th>star</th>\n",
       "      <th>count_reopen</th>\n",
       "      <th>state</th>\n",
       "      <th>statuscode</th>\n",
       "      <th>Other</th>\n",
       "      <th>Road</th>\n",
       "      <th>Sidewalk</th>\n",
       "      <th>Flood</th>\n",
       "      <th>Light</th>\n",
       "      <th>Safety</th>\n",
       "      <th>Cleanliness</th>\n",
       "      <th>Drain</th>\n",
       "      <th>Bridge</th>\n",
       "      <th>Obstruction</th>\n",
       "      <th>Traffic</th>\n",
       "      <th>electric wires</th>\n",
       "      <th>Canal</th>\n",
       "      <th>Tree</th>\n",
       "      <th>Noise</th>\n",
       "      <th>Stray animals</th>\n",
       "      <th>Signage</th>\n",
       "      <th>Complaint</th>\n",
       "      <th>Suggestion</th>\n",
       "      <th>Homeless</th>\n",
       "      <th>Journey</th>\n",
       "      <th>Inquiry</th>\n",
       "      <th>Bathroom</th>\n",
       "      <th>PM2.5</th>\n",
       "      <th>Traffic Signs</th>\n",
       "    </tr>\n",
       "  </thead>\n",
       "  <tbody>\n",
       "    <tr>\n",
       "      <th>0</th>\n",
       "      <td>167059.0</td>\n",
       "      <td>ถนน</td>\n",
       "      <td>['100.49511', '13.73414']</td>\n",
       "      <td>2022-08-02 01:12:29.503983+00:00</td>\n",
       "      <td>inprogress</td>\n",
       "      <td>0.0</td>\n",
       "      <td>0.0</td>\n",
       "      <td>กำลังดำเนินการ</td>\n",
       "      <td>1.0</td>\n",
       "      <td>0</td>\n",
       "      <td>1</td>\n",
       "      <td>0</td>\n",
       "      <td>0</td>\n",
       "      <td>0</td>\n",
       "      <td>0</td>\n",
       "      <td>0</td>\n",
       "      <td>0</td>\n",
       "      <td>0</td>\n",
       "      <td>0</td>\n",
       "      <td>0</td>\n",
       "      <td>0</td>\n",
       "      <td>0</td>\n",
       "      <td>0</td>\n",
       "      <td>0</td>\n",
       "      <td>0</td>\n",
       "      <td>0</td>\n",
       "      <td>0</td>\n",
       "      <td>0</td>\n",
       "      <td>0</td>\n",
       "      <td>0</td>\n",
       "      <td>0</td>\n",
       "      <td>0</td>\n",
       "      <td>0</td>\n",
       "      <td>0</td>\n",
       "    </tr>\n",
       "    <tr>\n",
       "      <th>2</th>\n",
       "      <td>167057.0</td>\n",
       "      <td>น้ำท่วม,ความสะอาด,ถนน</td>\n",
       "      <td>['100.58499', '13.82280']</td>\n",
       "      <td>2022-08-02 01:12:22.743730+00:00</td>\n",
       "      <td>finish</td>\n",
       "      <td>0.0</td>\n",
       "      <td>1.0</td>\n",
       "      <td>เสร็จสิ้น</td>\n",
       "      <td>2.0</td>\n",
       "      <td>0</td>\n",
       "      <td>1</td>\n",
       "      <td>0</td>\n",
       "      <td>1</td>\n",
       "      <td>0</td>\n",
       "      <td>0</td>\n",
       "      <td>1</td>\n",
       "      <td>0</td>\n",
       "      <td>0</td>\n",
       "      <td>0</td>\n",
       "      <td>0</td>\n",
       "      <td>0</td>\n",
       "      <td>0</td>\n",
       "      <td>0</td>\n",
       "      <td>0</td>\n",
       "      <td>0</td>\n",
       "      <td>0</td>\n",
       "      <td>0</td>\n",
       "      <td>0</td>\n",
       "      <td>0</td>\n",
       "      <td>0</td>\n",
       "      <td>0</td>\n",
       "      <td>0</td>\n",
       "      <td>0</td>\n",
       "      <td>0</td>\n",
       "    </tr>\n",
       "    <tr>\n",
       "      <th>3</th>\n",
       "      <td>167056.0</td>\n",
       "      <td>ความสะอาด</td>\n",
       "      <td>['100.87012', '13.85152']</td>\n",
       "      <td>2022-08-02 01:12:16.842900+00:00</td>\n",
       "      <td>finish</td>\n",
       "      <td>0.0</td>\n",
       "      <td>0.0</td>\n",
       "      <td>เสร็จสิ้น</td>\n",
       "      <td>2.0</td>\n",
       "      <td>0</td>\n",
       "      <td>0</td>\n",
       "      <td>0</td>\n",
       "      <td>0</td>\n",
       "      <td>0</td>\n",
       "      <td>0</td>\n",
       "      <td>1</td>\n",
       "      <td>0</td>\n",
       "      <td>0</td>\n",
       "      <td>0</td>\n",
       "      <td>0</td>\n",
       "      <td>0</td>\n",
       "      <td>0</td>\n",
       "      <td>0</td>\n",
       "      <td>0</td>\n",
       "      <td>0</td>\n",
       "      <td>0</td>\n",
       "      <td>0</td>\n",
       "      <td>0</td>\n",
       "      <td>0</td>\n",
       "      <td>0</td>\n",
       "      <td>0</td>\n",
       "      <td>0</td>\n",
       "      <td>0</td>\n",
       "      <td>0</td>\n",
       "    </tr>\n",
       "    <tr>\n",
       "      <th>5</th>\n",
       "      <td>167052.0</td>\n",
       "      <td>น้ำท่วม</td>\n",
       "      <td>['100.65667', '13.72447']</td>\n",
       "      <td>2022-08-02 01:09:52.334801+00:00</td>\n",
       "      <td>finish</td>\n",
       "      <td>4.0</td>\n",
       "      <td>0.0</td>\n",
       "      <td>เสร็จสิ้น</td>\n",
       "      <td>2.0</td>\n",
       "      <td>0</td>\n",
       "      <td>0</td>\n",
       "      <td>0</td>\n",
       "      <td>1</td>\n",
       "      <td>0</td>\n",
       "      <td>0</td>\n",
       "      <td>0</td>\n",
       "      <td>0</td>\n",
       "      <td>0</td>\n",
       "      <td>0</td>\n",
       "      <td>0</td>\n",
       "      <td>0</td>\n",
       "      <td>0</td>\n",
       "      <td>0</td>\n",
       "      <td>0</td>\n",
       "      <td>0</td>\n",
       "      <td>0</td>\n",
       "      <td>0</td>\n",
       "      <td>0</td>\n",
       "      <td>0</td>\n",
       "      <td>0</td>\n",
       "      <td>0</td>\n",
       "      <td>0</td>\n",
       "      <td>0</td>\n",
       "      <td>0</td>\n",
       "    </tr>\n",
       "    <tr>\n",
       "      <th>7</th>\n",
       "      <td>167050.0</td>\n",
       "      <td>น้ำท่วม</td>\n",
       "      <td>['100.64184', '13.73842']</td>\n",
       "      <td>2022-08-02 01:09:18.765404+00:00</td>\n",
       "      <td>finish</td>\n",
       "      <td>2.0</td>\n",
       "      <td>0.0</td>\n",
       "      <td>เสร็จสิ้น</td>\n",
       "      <td>2.0</td>\n",
       "      <td>0</td>\n",
       "      <td>0</td>\n",
       "      <td>0</td>\n",
       "      <td>1</td>\n",
       "      <td>0</td>\n",
       "      <td>0</td>\n",
       "      <td>0</td>\n",
       "      <td>0</td>\n",
       "      <td>0</td>\n",
       "      <td>0</td>\n",
       "      <td>0</td>\n",
       "      <td>0</td>\n",
       "      <td>0</td>\n",
       "      <td>0</td>\n",
       "      <td>0</td>\n",
       "      <td>0</td>\n",
       "      <td>0</td>\n",
       "      <td>0</td>\n",
       "      <td>0</td>\n",
       "      <td>0</td>\n",
       "      <td>0</td>\n",
       "      <td>0</td>\n",
       "      <td>0</td>\n",
       "      <td>0</td>\n",
       "      <td>0</td>\n",
       "    </tr>\n",
       "  </tbody>\n",
       "</table>\n",
       "</div>"
      ],
      "text/plain": [
       "   message_id                   type                     coords  \\\n",
       "0    167059.0                    ถนน  ['100.49511', '13.73414']   \n",
       "2    167057.0  น้ำท่วม,ความสะอาด,ถนน  ['100.58499', '13.82280']   \n",
       "3    167056.0              ความสะอาด  ['100.87012', '13.85152']   \n",
       "5    167052.0                น้ำท่วม  ['100.65667', '13.72447']   \n",
       "7    167050.0                น้ำท่วม  ['100.64184', '13.73842']   \n",
       "\n",
       "                          timestamp      status  star  count_reopen  \\\n",
       "0  2022-08-02 01:12:29.503983+00:00  inprogress   0.0           0.0   \n",
       "2  2022-08-02 01:12:22.743730+00:00      finish   0.0           1.0   \n",
       "3  2022-08-02 01:12:16.842900+00:00      finish   0.0           0.0   \n",
       "5  2022-08-02 01:09:52.334801+00:00      finish   4.0           0.0   \n",
       "7  2022-08-02 01:09:18.765404+00:00      finish   2.0           0.0   \n",
       "\n",
       "            state  statuscode  Other  Road  Sidewalk  Flood  Light  Safety  \\\n",
       "0  กำลังดำเนินการ         1.0      0     1         0      0      0       0   \n",
       "2       เสร็จสิ้น         2.0      0     1         0      1      0       0   \n",
       "3       เสร็จสิ้น         2.0      0     0         0      0      0       0   \n",
       "5       เสร็จสิ้น         2.0      0     0         0      1      0       0   \n",
       "7       เสร็จสิ้น         2.0      0     0         0      1      0       0   \n",
       "\n",
       "   Cleanliness  Drain  Bridge  Obstruction  Traffic  electric wires  Canal  \\\n",
       "0            0      0       0            0        0               0      0   \n",
       "2            1      0       0            0        0               0      0   \n",
       "3            1      0       0            0        0               0      0   \n",
       "5            0      0       0            0        0               0      0   \n",
       "7            0      0       0            0        0               0      0   \n",
       "\n",
       "   Tree  Noise  Stray animals  Signage  Complaint  Suggestion  Homeless  \\\n",
       "0     0      0              0        0          0           0         0   \n",
       "2     0      0              0        0          0           0         0   \n",
       "3     0      0              0        0          0           0         0   \n",
       "5     0      0              0        0          0           0         0   \n",
       "7     0      0              0        0          0           0         0   \n",
       "\n",
       "   Journey  Inquiry  Bathroom  PM2.5  Traffic Signs  \n",
       "0        0        0         0      0              0  \n",
       "2        0        0         0      0              0  \n",
       "3        0        0         0      0              0  \n",
       "5        0        0         0      0              0  \n",
       "7        0        0         0      0              0  "
      ]
     },
     "execution_count": 13,
     "metadata": {},
     "output_type": "execute_result"
    }
   ],
   "source": [
    "df_traffycol.head()"
   ]
  },
  {
   "cell_type": "code",
   "execution_count": 14,
   "id": "69e8381f",
   "metadata": {},
   "outputs": [
    {
     "data": {
      "text/plain": [
       "(19518, 34)"
      ]
     },
     "execution_count": 14,
     "metadata": {},
     "output_type": "execute_result"
    }
   ],
   "source": [
    "df_traffycol.shape"
   ]
  },
  {
   "cell_type": "code",
   "execution_count": 53,
   "id": "d74c3cef",
   "metadata": {},
   "outputs": [
    {
     "name": "stdout",
     "output_type": "stream",
     "text": [
      "i: กำลังดำเนินการ state: In progress\n",
      "i: ของบประมาณ state: Ask for a budget.\n",
      "i: รอรับเรื่อง state: Waiting to get the story.\n",
      "i: ส่งต่อ(ใหม่) state: Forward(New)\n",
      "i: เสร็จสิ้น state: finish\n",
      "i: ไม่เกี่ยวข้อง state: Irrelevant.\n"
     ]
    },
    {
     "name": "stderr",
     "output_type": "stream",
     "text": [
      "/var/folders/r9/s9f9f5cj77l7qzjyd8t03b1h0000gn/T/ipykernel_38345/1560091780.py:6: SettingWithCopyWarning: \n",
      "A value is trying to be set on a copy of a slice from a DataFrame\n",
      "\n",
      "See the caveats in the documentation: https://pandas.pydata.org/pandas-docs/stable/user_guide/indexing.html#returning-a-view-versus-a-copy\n",
      "  df_state_cnt['state'].iloc[indx] =state[i]\n"
     ]
    },
    {
     "data": {
      "text/html": [
       "<div>\n",
       "<style scoped>\n",
       "    .dataframe tbody tr th:only-of-type {\n",
       "        vertical-align: middle;\n",
       "    }\n",
       "\n",
       "    .dataframe tbody tr th {\n",
       "        vertical-align: top;\n",
       "    }\n",
       "\n",
       "    .dataframe thead th {\n",
       "        text-align: right;\n",
       "    }\n",
       "</style>\n",
       "<table border=\"1\" class=\"dataframe\">\n",
       "  <thead>\n",
       "    <tr style=\"text-align: right;\">\n",
       "      <th></th>\n",
       "      <th>state</th>\n",
       "      <th>Count</th>\n",
       "      <th>percent</th>\n",
       "    </tr>\n",
       "  </thead>\n",
       "  <tbody>\n",
       "    <tr>\n",
       "      <th>0</th>\n",
       "      <td>In progress</td>\n",
       "      <td>5086</td>\n",
       "      <td>26.062004</td>\n",
       "    </tr>\n",
       "    <tr>\n",
       "      <th>1</th>\n",
       "      <td>Ask for a budget.</td>\n",
       "      <td>1</td>\n",
       "      <td>0.005124</td>\n",
       "    </tr>\n",
       "    <tr>\n",
       "      <th>2</th>\n",
       "      <td>Waiting to get the story.</td>\n",
       "      <td>2102</td>\n",
       "      <td>10.771202</td>\n",
       "    </tr>\n",
       "    <tr>\n",
       "      <th>3</th>\n",
       "      <td>Forward(New)</td>\n",
       "      <td>6</td>\n",
       "      <td>0.030746</td>\n",
       "    </tr>\n",
       "    <tr>\n",
       "      <th>4</th>\n",
       "      <td>finish</td>\n",
       "      <td>12285</td>\n",
       "      <td>62.951576</td>\n",
       "    </tr>\n",
       "    <tr>\n",
       "      <th>5</th>\n",
       "      <td>Irrelevant.</td>\n",
       "      <td>35</td>\n",
       "      <td>0.179349</td>\n",
       "    </tr>\n",
       "  </tbody>\n",
       "</table>\n",
       "</div>"
      ],
      "text/plain": [
       "                       state  Count    percent\n",
       "0                In progress   5086  26.062004\n",
       "1          Ask for a budget.      1   0.005124\n",
       "2  Waiting to get the story.   2102  10.771202\n",
       "3               Forward(New)      6   0.030746\n",
       "4                     finish  12285  62.951576\n",
       "5                Irrelevant.     35   0.179349"
      ]
     },
     "execution_count": 53,
     "metadata": {},
     "output_type": "execute_result"
    }
   ],
   "source": [
    "df_test=df_traffycol[['state']]\n",
    "df_state_cnt =df_test.groupby('state').value_counts().reset_index(name='Count')\n",
    "indx=0\n",
    "for i in df_state_cnt['state']:\n",
    "    print(\"i: \"+i+\" state: \"+state[i])\n",
    "    df_state_cnt['state'].iloc[indx] =state[i]\n",
    "    indx = indx+1\n",
    "\n",
    "df_state_cnt['percent'] = (df_state_cnt['Count'] / \n",
    "                  df_state_cnt['Count'].sum()) * 100\n",
    "df_state_cnt"
   ]
  },
  {
   "cell_type": "code",
   "execution_count": 68,
   "id": "3c2bb3bc",
   "metadata": {},
   "outputs": [
    {
     "data": {
      "image/png": "[encoded data removed]",
      "text/plain": [
       "<Figure size 640x480 with 1 Axes>"
      ]
     },
     "metadata": {},
     "output_type": "display_data"
    }
   ],
   "source": [
    "import matplotlib.pyplot as plt\n",
    "import seaborn as sns\n",
    "\n",
    "#dims = (11, 8)\n",
    "#fig, ax = plt.subplots(figsize=dims)\n",
    "\n",
    "keys=['In progress','Ask for a budget.','Waiting to get the story.',\n",
    "    'Forward(New)','finish',\n",
    "    'Irrelevant.']\n",
    "\n",
    "data=df_state_cnt['percent']\n",
    "\n",
    "sns.barplot(x=data, y=keys)\n",
    "\n",
    "#sns.barplot(ax=ax,data=df_state_cnt, x='state', y='Count', hue=\"state\")\n",
    "\n",
    "plt.show ()"
   ]
  },
  {
   "cell_type": "markdown",
   "id": "74cceb17",
   "metadata": {},
   "source": [
    "# working with timeseries\n",
    "This section will produce data from the data set over time.\n",
    "Since the data represent a sample from the total, the results will be presented in percent."
   ]
  },
  {
   "cell_type": "code",
   "execution_count": 19,
   "id": "88f9b129",
   "metadata": {},
   "outputs": [
    {
     "name": "stderr",
     "output_type": "stream",
     "text": [
      "/var/folders/r9/s9f9f5cj77l7qzjyd8t03b1h0000gn/T/ipykernel_38345/971105381.py:5: SettingWithCopyWarning: \n",
      "A value is trying to be set on a copy of a slice from a DataFrame.\n",
      "Try using .loc[row_indexer,col_indexer] = value instead\n",
      "\n",
      "See the caveats in the documentation: https://pandas.pydata.org/pandas-docs/stable/user_guide/indexing.html#returning-a-view-versus-a-copy\n",
      "  df_submitted['timestamp'] = pd.to_datetime(df_submitted['timestamp']).dt.date\n"
     ]
    },
    {
     "data": {
      "text/plain": [
       "(205, 3)"
      ]
     },
     "execution_count": 19,
     "metadata": {},
     "output_type": "execute_result"
    }
   ],
   "source": [
    "# Number of complaints submited over time per day\n",
    "# use the timestamp to extract the day and count the number of cases status submitted and finished and in progress\n",
    "\n",
    "df_submitted = df_traffycol[['timestamp','status','state','statuscode']]\n",
    "df_submitted['timestamp'] = pd.to_datetime(df_submitted['timestamp']).dt.date\n",
    "#df_submitted['year'] = pd.DatetimeIndex(df_submitted['timestamp']).year\n",
    "#df_submitted['month'] = pd.DatetimeIndex(df_submitted['timestamp']).month\n",
    "grouped = df_submitted.groupby(['timestamp'])['state']\n",
    "df_sub_grp = grouped.value_counts().reset_index(name='count')\n",
    "\n",
    "df_sub_grp.shape\n",
    "#df_count = df_index.groupby(['timestamp'])['type'].value_counts().reset_index(name='Count')\n",
    "\n",
    "#df_index.groupby([\"timestamp\", \"type\"]).agg(\n",
    "#    count_col=pd.NamedAgg(column=\"type\", aggfunc=\"type\")\n",
    "#)\n",
    "#df_series = df_index.pivot_table(\n",
    "#        index = [\"timestamp\", \"type\"],\n",
    "#        #values = \"count\",\n",
    "#        aggfunc = \"count\"\n",
    "#)\n",
    "#df_index= df_index['timestamp']= pd.to_datetime(df_index['timestamp']).dt.date\n",
    "\n",
    "#df_plot = df_index.groupby(['timestamp', 'status']).size()\n",
    "#print(df_ploit)\n",
    "\n",
    "#df_traffycol.groupby(['timestamp','type']).value_counts()\n",
    "\n",
    "#df1 = df_traffycol.groupby(['timestamp'])['type'].value_counts().reset_index(name='Count')\n",
    "#df1\n",
    "\n",
    "#df1= df_traffycol.groupby(['timestamp'])['type'].value_counts().reset_index(name='Count')#.where(df_traffycol['type'].str.contains('ถนน'))\n",
    "\n",
    "#options = ['ทางเท้า'] \n",
    "#df2 = df1.loc[df1['type'].isin(options)]\n",
    "#df2#.dropna()\n",
    "\n",
    "#df2=df_ploit.reset_index(name='Count')#.unstack([2])\n",
    "#df_series.head()\n"
   ]
  },
  {
   "cell_type": "code",
   "execution_count": 32,
   "id": "cb7f9541",
   "metadata": {},
   "outputs": [
    {
     "data": {
      "text/plain": [
       "(205, 3)"
      ]
     },
     "execution_count": 32,
     "metadata": {},
     "output_type": "execute_result"
    }
   ],
   "source": [
    "df_sub_grp.shape"
   ]
  },
  {
   "cell_type": "code",
   "execution_count": 26,
   "id": "100781f0",
   "metadata": {},
   "outputs": [
    {
     "name": "stderr",
     "output_type": "stream",
     "text": [
      "/Users/michaelhansen/Documents/thammasat/Thammasat_PhD_Research/github/traffy-bangkok-2022/.venv/lib/python3.9/site-packages/IPython/core/pylabtools.py:152: UserWarning: Glyph 3648 (\\N{THAI CHARACTER SARA E}) missing from current font.\n",
      "  fig.canvas.print_figure(bytes_io, **kw)\n",
      "/Users/michaelhansen/Documents/thammasat/Thammasat_PhD_Research/github/traffy-bangkok-2022/.venv/lib/python3.9/site-packages/IPython/core/pylabtools.py:152: UserWarning: Glyph 3626 (\\N{THAI CHARACTER SO SUA}) missing from current font.\n",
      "  fig.canvas.print_figure(bytes_io, **kw)\n",
      "/Users/michaelhansen/Documents/thammasat/Thammasat_PhD_Research/github/traffy-bangkok-2022/.venv/lib/python3.9/site-packages/IPython/core/pylabtools.py:152: UserWarning: Glyph 3619 (\\N{THAI CHARACTER RO RUA}) missing from current font.\n",
      "  fig.canvas.print_figure(bytes_io, **kw)\n",
      "/Users/michaelhansen/Documents/thammasat/Thammasat_PhD_Research/github/traffy-bangkok-2022/.venv/lib/python3.9/site-packages/IPython/core/pylabtools.py:152: UserWarning: Glyph 3655 (\\N{THAI CHARACTER MAITAIKHU}) missing from current font.\n",
      "  fig.canvas.print_figure(bytes_io, **kw)\n",
      "/Users/michaelhansen/Documents/thammasat/Thammasat_PhD_Research/github/traffy-bangkok-2022/.venv/lib/python3.9/site-packages/IPython/core/pylabtools.py:152: UserWarning: Glyph 3592 (\\N{THAI CHARACTER CHO CHAN}) missing from current font.\n",
      "  fig.canvas.print_figure(bytes_io, **kw)\n",
      "/Users/michaelhansen/Documents/thammasat/Thammasat_PhD_Research/github/traffy-bangkok-2022/.venv/lib/python3.9/site-packages/IPython/core/pylabtools.py:152: UserWarning: Glyph 3636 (\\N{THAI CHARACTER SARA I}) missing from current font.\n",
      "  fig.canvas.print_figure(bytes_io, **kw)\n",
      "/Users/michaelhansen/Documents/thammasat/Thammasat_PhD_Research/github/traffy-bangkok-2022/.venv/lib/python3.9/site-packages/IPython/core/pylabtools.py:152: UserWarning: Glyph 3657 (\\N{THAI CHARACTER MAI THO}) missing from current font.\n",
      "  fig.canvas.print_figure(bytes_io, **kw)\n",
      "/Users/michaelhansen/Documents/thammasat/Thammasat_PhD_Research/github/traffy-bangkok-2022/.venv/lib/python3.9/site-packages/IPython/core/pylabtools.py:152: UserWarning: Glyph 3609 (\\N{THAI CHARACTER NO NU}) missing from current font.\n",
      "  fig.canvas.print_figure(bytes_io, **kw)\n",
      "/Users/michaelhansen/Documents/thammasat/Thammasat_PhD_Research/github/traffy-bangkok-2022/.venv/lib/python3.9/site-packages/IPython/core/pylabtools.py:152: UserWarning: Glyph 3585 (\\N{THAI CHARACTER KO KAI}) missing from current font.\n",
      "  fig.canvas.print_figure(bytes_io, **kw)\n",
      "/Users/michaelhansen/Documents/thammasat/Thammasat_PhD_Research/github/traffy-bangkok-2022/.venv/lib/python3.9/site-packages/IPython/core/pylabtools.py:152: UserWarning: Glyph 3635 (\\N{THAI CHARACTER SARA AM}) missing from current font.\n",
      "  fig.canvas.print_figure(bytes_io, **kw)\n",
      "/Users/michaelhansen/Documents/thammasat/Thammasat_PhD_Research/github/traffy-bangkok-2022/.venv/lib/python3.9/site-packages/IPython/core/pylabtools.py:152: UserWarning: Glyph 3621 (\\N{THAI CHARACTER LO LING}) missing from current font.\n",
      "  fig.canvas.print_figure(bytes_io, **kw)\n",
      "/Users/michaelhansen/Documents/thammasat/Thammasat_PhD_Research/github/traffy-bangkok-2022/.venv/lib/python3.9/site-packages/IPython/core/pylabtools.py:152: UserWarning: Glyph 3633 (\\N{THAI CHARACTER MAI HAN-AKAT}) missing from current font.\n",
      "  fig.canvas.print_figure(bytes_io, **kw)\n",
      "/Users/michaelhansen/Documents/thammasat/Thammasat_PhD_Research/github/traffy-bangkok-2022/.venv/lib/python3.9/site-packages/IPython/core/pylabtools.py:152: UserWarning: Glyph 3591 (\\N{THAI CHARACTER NGO NGU}) missing from current font.\n",
      "  fig.canvas.print_figure(bytes_io, **kw)\n",
      "/Users/michaelhansen/Documents/thammasat/Thammasat_PhD_Research/github/traffy-bangkok-2022/.venv/lib/python3.9/site-packages/IPython/core/pylabtools.py:152: UserWarning: Glyph 3604 (\\N{THAI CHARACTER DO DEK}) missing from current font.\n",
      "  fig.canvas.print_figure(bytes_io, **kw)\n",
      "/Users/michaelhansen/Documents/thammasat/Thammasat_PhD_Research/github/traffy-bangkok-2022/.venv/lib/python3.9/site-packages/IPython/core/pylabtools.py:152: UserWarning: Glyph 3634 (\\N{THAI CHARACTER SARA AA}) missing from current font.\n",
      "  fig.canvas.print_figure(bytes_io, **kw)\n",
      "/Users/michaelhansen/Documents/thammasat/Thammasat_PhD_Research/github/traffy-bangkok-2022/.venv/lib/python3.9/site-packages/IPython/core/pylabtools.py:152: UserWarning: Glyph 3629 (\\N{THAI CHARACTER O ANG}) missing from current font.\n",
      "  fig.canvas.print_figure(bytes_io, **kw)\n",
      "/Users/michaelhansen/Documents/thammasat/Thammasat_PhD_Research/github/traffy-bangkok-2022/.venv/lib/python3.9/site-packages/IPython/core/pylabtools.py:152: UserWarning: Glyph 3610 (\\N{THAI CHARACTER BO BAIMAI}) missing from current font.\n",
      "  fig.canvas.print_figure(bytes_io, **kw)\n",
      "/Users/michaelhansen/Documents/thammasat/Thammasat_PhD_Research/github/traffy-bangkok-2022/.venv/lib/python3.9/site-packages/IPython/core/pylabtools.py:152: UserWarning: Glyph 3639 (\\N{THAI CHARACTER SARA UEE}) missing from current font.\n",
      "  fig.canvas.print_figure(bytes_io, **kw)\n",
      "/Users/michaelhansen/Documents/thammasat/Thammasat_PhD_Research/github/traffy-bangkok-2022/.venv/lib/python3.9/site-packages/IPython/core/pylabtools.py:152: UserWarning: Glyph 3656 (\\N{THAI CHARACTER MAI EK}) missing from current font.\n",
      "  fig.canvas.print_figure(bytes_io, **kw)\n",
      "/Users/michaelhansen/Documents/thammasat/Thammasat_PhD_Research/github/traffy-bangkok-2022/.venv/lib/python3.9/site-packages/IPython/core/pylabtools.py:152: UserWarning: Glyph 3652 (\\N{THAI CHARACTER SARA AI MAIMALAI}) missing from current font.\n",
      "  fig.canvas.print_figure(bytes_io, **kw)\n",
      "/Users/michaelhansen/Documents/thammasat/Thammasat_PhD_Research/github/traffy-bangkok-2022/.venv/lib/python3.9/site-packages/IPython/core/pylabtools.py:152: UserWarning: Glyph 3617 (\\N{THAI CHARACTER MO MA}) missing from current font.\n",
      "  fig.canvas.print_figure(bytes_io, **kw)\n",
      "/Users/michaelhansen/Documents/thammasat/Thammasat_PhD_Research/github/traffy-bangkok-2022/.venv/lib/python3.9/site-packages/IPython/core/pylabtools.py:152: UserWarning: Glyph 3637 (\\N{THAI CHARACTER SARA II}) missing from current font.\n",
      "  fig.canvas.print_figure(bytes_io, **kw)\n",
      "/Users/michaelhansen/Documents/thammasat/Thammasat_PhD_Research/github/traffy-bangkok-2022/.venv/lib/python3.9/site-packages/IPython/core/pylabtools.py:152: UserWarning: Glyph 3618 (\\N{THAI CHARACTER YO YAK}) missing from current font.\n",
      "  fig.canvas.print_figure(bytes_io, **kw)\n",
      "/Users/michaelhansen/Documents/thammasat/Thammasat_PhD_Research/github/traffy-bangkok-2022/.venv/lib/python3.9/site-packages/IPython/core/pylabtools.py:152: UserWarning: Glyph 3623 (\\N{THAI CHARACTER WO WAEN}) missing from current font.\n",
      "  fig.canvas.print_figure(bytes_io, **kw)\n",
      "/Users/michaelhansen/Documents/thammasat/Thammasat_PhD_Research/github/traffy-bangkok-2022/.venv/lib/python3.9/site-packages/IPython/core/pylabtools.py:152: UserWarning: Glyph 3586 (\\N{THAI CHARACTER KHO KHAI}) missing from current font.\n",
      "  fig.canvas.print_figure(bytes_io, **kw)\n",
      "/Users/michaelhansen/Documents/thammasat/Thammasat_PhD_Research/github/traffy-bangkok-2022/.venv/lib/python3.9/site-packages/IPython/core/pylabtools.py:152: UserWarning: Glyph 3605 (\\N{THAI CHARACTER TO TAO}) missing from current font.\n",
      "  fig.canvas.print_figure(bytes_io, **kw)\n",
      "/Users/michaelhansen/Documents/thammasat/Thammasat_PhD_Research/github/traffy-bangkok-2022/.venv/lib/python3.9/site-packages/IPython/core/pylabtools.py:152: UserWarning: Glyph 3651 (\\N{THAI CHARACTER SARA AI MAIMUAN}) missing from current font.\n",
      "  fig.canvas.print_figure(bytes_io, **kw)\n",
      "/Users/michaelhansen/Documents/thammasat/Thammasat_PhD_Research/github/traffy-bangkok-2022/.venv/lib/python3.9/site-packages/IPython/core/pylabtools.py:152: UserWarning: Glyph 3627 (\\N{THAI CHARACTER HO HIP}) missing from current font.\n",
      "  fig.canvas.print_figure(bytes_io, **kw)\n",
      "/Users/michaelhansen/Documents/thammasat/Thammasat_PhD_Research/github/traffy-bangkok-2022/.venv/lib/python3.9/site-packages/IPython/core/pylabtools.py:152: UserWarning: Glyph 3611 (\\N{THAI CHARACTER PO PLA}) missing from current font.\n",
      "  fig.canvas.print_figure(bytes_io, **kw)\n",
      "/Users/michaelhansen/Documents/thammasat/Thammasat_PhD_Research/github/traffy-bangkok-2022/.venv/lib/python3.9/site-packages/IPython/core/pylabtools.py:152: UserWarning: Glyph 3632 (\\N{THAI CHARACTER SARA A}) missing from current font.\n",
      "  fig.canvas.print_figure(bytes_io, **kw)\n",
      "/Users/michaelhansen/Documents/thammasat/Thammasat_PhD_Research/github/traffy-bangkok-2022/.venv/lib/python3.9/site-packages/IPython/core/pylabtools.py:152: UserWarning: Glyph 3603 (\\N{THAI CHARACTER NO NEN}) missing from current font.\n",
      "  fig.canvas.print_figure(bytes_io, **kw)\n"
     ]
    },
    {
     "data": {
      "image/png": "[encoded data removed]",
      "text/plain": [
       "<Figure size 1100x800 with 1 Axes>"
      ]
     },
     "metadata": {},
     "output_type": "display_data"
    }
   ],
   "source": [
    "import matplotlib.pyplot as plt\n",
    "import seaborn as sns\n",
    "\n",
    "dims = (11, 8)\n",
    "fig, ax = plt.subplots(figsize=dims)\n",
    "\n",
    "sns.barplot(ax=ax,data=df_sub_grp, x='timestamp', y='count', hue=\"state\")\n",
    "#new_labels = ['finish', 'In progress']\n",
    "\"\"\"\n",
    "'ส่งเรื่องแล้ว':'Submitted',\n",
    "    'กำลังดำเนินการ':'In progress',\n",
    "    'เสร็จสิ้น':'finish',\n",
    "    'ส่งต่อ(ใหม่)':'Forward(New)',\n",
    "    'ของบประมาณ':'Ask for a budget.',\n",
    "    'รอรับเรื่อง':'Waiting to get the story.',\n",
    "    'ไม่เกี่ยวข้อง':'Irrelevant.'\n",
    "\"\"\"\n",
    "#plt.legend(labels=['finish', 'In progress'])\n",
    "plt.show ()\n",
    "#plt.plot(df_ploit)\n",
    "#plt.ylabel('some numbers')\n",
    "#plt.show()\n"
   ]
  }
 ],
 "metadata": {
  "kernelspec": {
   "display_name": "Python 3 (ipykernel)",
   "language": "python",
   "name": "python3"
  },
  "language_info": {
   "codemirror_mode": {
    "name": "ipython",
    "version": 3
   },
   "file_extension": ".py",
   "mimetype": "text/x-python",
   "name": "python",
   "nbconvert_exporter": "python",
   "pygments_lexer": "ipython3",
   "version": "3.9.13"
  },
  "vscode": {
   "interpreter": {
    "hash": "5f212ead087c8d07ab8125db85d23ae5952539fcc5ae8febb3ed17a508101822"
   }
  }
 },
 "nbformat": 4,
 "nbformat_minor": 5
}
