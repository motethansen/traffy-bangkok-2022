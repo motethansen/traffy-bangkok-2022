{
 "cells": [
  {
   "cell_type": "markdown",
   "id": "578c4690-2c56-4f15-a87c-0984b346bca6",
   "metadata": {},
   "source": [
    "# Traffy Fondue data\n",
    "This file works on data downloaded from the chadchart traffy website"
   ]
  }
 ],
 "metadata": {
  "kernelspec": {
   "display_name": "Python 3 (ipykernel)",
   "language": "python",
   "name": "python3"
  },
  "language_info": {
   "codemirror_mode": {
    "name": "ipython",
    "version": 3
   },
   "file_extension": ".py",
   "mimetype": "text/x-python",
   "name": "python",
   "nbconvert_exporter": "python",
   "pygments_lexer": "ipython3",
   "version": "3.9.13"
  }
 },
 "nbformat": 4,
 "nbformat_minor": 5
}
